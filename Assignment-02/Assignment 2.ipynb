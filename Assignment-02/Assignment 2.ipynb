{
 "cells": [
  {
   "cell_type": "markdown",
   "metadata": {},
   "source": [
    "# Assignment 2:"
   ]
  },
  {
   "cell_type": "markdown",
   "metadata": {},
   "source": [
    "1. Prompts a user to enter 10 integers.\n",
    "2. If the user enters anything other than integers, remind her that only integers are allowed and let her retry.\n",
    "\n",
    "Note: You need to detect if use makes a mistake and let the user retry without exiting the program. The previously entered valid inputs should be kept and not lost.\n",
    "Don't allow the user to enter more than 10 or less than 10 integers.\n",
    "3. Display the 10 integers back to the user at the end.\n",
    "4. Calculate the following statistics from the 10 integers entered and display the results back to the user:\n",
    "   Minimum\n",
    "   Maximum\n",
    "   Range\n",
    "   Mean\n",
    "   Variance\n",
    "   Standard Deviation"
   ]
  },
  {
   "cell_type": "code",
   "execution_count": 27,
   "metadata": {},
   "outputs": [
    {
     "name": "stdout",
     "output_type": "stream",
     "text": [
      "\n",
      "Please enter an integer: 1\n",
      "\n",
      "Please enter an integer: 3\n",
      "\n",
      "Please enter an integer: 5\n",
      "\n",
      "Please enter an integer: 7\n",
      "\n",
      "Please enter an integer: 9\n",
      "\n",
      "Please enter an integer: 11\n",
      "\n",
      "Please enter an integer: 13\n",
      "\n",
      "Please enter an integer: 15\n",
      "\n",
      "Please enter an integer: 17\n",
      "\n",
      "Please enter an integer: 19\n",
      "\n",
      " [1, 3, 5, 7, 9, 11, 13, 15, 17, 19]\n"
     ]
    }
   ],
   "source": [
    "numbers = [] #create empty list\n",
    "\n",
    "while len(numbers) < 10:  #length of the list should be less than 10.\n",
    "\n",
    "    num = input(f\"\\nPlease enter an integer: \")\n",
    "\n",
    "    try:\n",
    "        num = int(num)\n",
    "        numbers.append(num)\n",
    "    except:\n",
    "        print(\"\\nInvalid. Please enter an integer.\")\n",
    "\n",
    "print(\"\\n\", numbers)  #The numbers that entered."
   ]
  },
  {
   "cell_type": "code",
   "execution_count": 28,
   "metadata": {},
   "outputs": [
    {
     "name": "stdout",
     "output_type": "stream",
     "text": [
      "Sum is: 100\n",
      "Average number = 10.0\n",
      "Minimum number is: 1\n",
      "Maximum number is: 19\n",
      "Range number is 18\n"
     ]
    }
   ],
   "source": [
    "total = 0\n",
    "for num in numbers:\n",
    "    total += num\n",
    "\n",
    "print(f\"Sum is:\", sum(numbers))  # The sum of the list\n",
    "print(f\"Average number = {total/len(numbers)}\" ) # The average number of the list\n",
    "print(f\"Minimum number is:\", min(numbers))   #The minimum number of the list\n",
    "print(f\"Maximum number is:\", max(numbers))   #The maximum number of the list\n",
    "print(f\"Range number is\" ,(max(numbers))- min(numbers))  #The range number of the list"
   ]
  },
  {
   "cell_type": "code",
   "execution_count": 29,
   "metadata": {},
   "outputs": [],
   "source": [
    "def variance(numbers): # Calculate the variance of the list.\n",
    "   \n",
    "  n = len(numbers)\n",
    "   \n",
    "  mean = sum(numbers) / n\n",
    "   \n",
    "  deviations = [(x - mean) ** 2 for x in numbers]\n",
    "    \n",
    "  variance = sum(deviations) / n\n",
    "  return variance"
   ]
  },
  {
   "cell_type": "code",
   "execution_count": 30,
   "metadata": {},
   "outputs": [],
   "source": [
    "def stdev(numbers): # Calculate the standard deviation of the list\n",
    "  import math\n",
    "  var = variance(numbers)\n",
    "  std_dev = math.sqrt(var)\n",
    "  return std_dev"
   ]
  },
  {
   "cell_type": "code",
   "execution_count": 31,
   "metadata": {},
   "outputs": [
    {
     "name": "stdout",
     "output_type": "stream",
     "text": [
      "Standard Deviation of the list is 5.744562646538029 \n",
      "Variance of the list is 33.0 \n"
     ]
    }
   ],
   "source": [
    "print(\"Standard Deviation of the list is % s \"% (stdev(numbers)))\n",
    "print(\"Variance of the list is % s \"% (variance(numbers)))"
   ]
  }
 ],
 "metadata": {
  "kernelspec": {
   "display_name": "Python 3",
   "language": "python",
   "name": "python3"
  },
  "language_info": {
   "codemirror_mode": {
    "name": "ipython",
    "version": 3
   },
   "file_extension": ".py",
   "mimetype": "text/x-python",
   "name": "python",
   "nbconvert_exporter": "python",
   "pygments_lexer": "ipython3",
   "version": "3.7.4"
  }
 },
 "nbformat": 4,
 "nbformat_minor": 2
}
