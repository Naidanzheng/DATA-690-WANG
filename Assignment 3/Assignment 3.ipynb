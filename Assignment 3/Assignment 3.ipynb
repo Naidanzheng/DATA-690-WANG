{
 "cells": [
  {
   "cell_type": "markdown",
   "metadata": {},
   "source": [
    "#  Assignment 3    "
   ]
  },
  {
   "cell_type": "markdown",
   "metadata": {},
   "source": [
    "### Problem 1: "
   ]
  },
  {
   "cell_type": "code",
   "execution_count": 22,
   "metadata": {},
   "outputs": [
    {
     "name": "stdout",
     "output_type": "stream",
     "text": [
      "8 5 4 6 3 8 5 2 1 3\n",
      "0 8 4 6 5 3 7 4 5 8\n",
      "5 3 5 8 7 7 7 8 1 0\n",
      "2 1 5 1 4 6 8 8 8 6\n",
      "8 0 2 4 0 8 2 4 1 3\n",
      "3 4 0 0 1 5 5 1 8 7\n",
      "5 6 4 2 4 1 6 4 7 5\n",
      "1 0 4 7 2 8 7 8 5 4\n",
      "3 5 5 0 4 0 0 0 7 5\n",
      "0 6 5 0 7 3 1 4 7 2\n"
     ]
    }
   ],
   "source": [
    "import numpy #Import library\n",
    "\n",
    "for i in range(10):                             \n",
    "    matrix=numpy.random.randint(0,9,10)         \n",
    "    print(*matrix)   "
   ]
  },
  {
   "cell_type": "markdown",
   "metadata": {},
   "source": [
    "### Problem 2: "
   ]
  },
  {
   "cell_type": "code",
   "execution_count": 23,
   "metadata": {},
   "outputs": [
    {
     "name": "stdout",
     "output_type": "stream",
     "text": [
      "@ 8 @ 2 0 4 0 @ 8 @\n",
      "@ @ @ @ 6 4 @ @ 4 @\n",
      "@ 0 6 @ 6 @ @ 4 @ 0\n",
      "@ @ @ @ @ @ @ 4 6 @\n",
      "0 0 6 @ 2 8 @ 0 0 2\n",
      "8 0 6 2 @ @ @ 0 @ 2\n",
      "@ 4 0 4 @ @ @ 8 @ @\n",
      "@ 8 @ @ 6 2 @ 6 @ 4\n",
      "2 @ @ @ 6 @ 2 2 @ @\n",
      "@ 2 8 4 @ 0 @ 6 6 8\n"
     ]
    }
   ],
   "source": [
    "for i in range(10):                                           \n",
    "    \n",
    "    list_position=0          #set position\n",
    "    matrix=numpy.random.randint(0,9,10).astype('object')      \n",
    "                                                              \n",
    "    for j in matrix:                                           \n",
    "        list_position=list_position+1                         \n",
    "        if j%2==1:                                            \n",
    "            matrix[list_position-1]=\"@\"  #replace it with @\n",
    "    print(*matrix)       "
   ]
  },
  {
   "cell_type": "markdown",
   "metadata": {},
   "source": [
    "### Problem 3: "
   ]
  },
  {
   "cell_type": "code",
   "execution_count": 24,
   "metadata": {},
   "outputs": [
    {
     "name": "stdout",
     "output_type": "stream",
     "text": [
      "1 6 6 4 7 4 8 8 1 4 * 49\n",
      "5 4 0 3 6 5 0 3 8 1 * 35\n",
      "3 1 1 0 3 4 6 5 0 8 * 31\n",
      "6 8 1 7 2 2 5 4 1 0 * 36\n",
      "7 4 1 2 0 2 2 4 6 5 * 33\n",
      "3 8 7 3 3 8 5 6 7 7 * 57\n",
      "7 8 0 1 6 3 6 7 1 0 * 39\n",
      "8 2 1 6 7 1 0 6 4 7 * 42\n",
      "0 4 4 0 5 8 8 6 7 4 * 46\n",
      "3 8 8 6 4 7 2 1 4 1 * 44\n"
     ]
    }
   ],
   "source": [
    "for i in range(10):                         \n",
    "    sum=0\n",
    "    matrix=numpy.random.randint(0,9,10)      \n",
    "    for number in matrix:                    \n",
    "        sum=sum+number\n",
    "    print(*matrix,end=\"\")   \n",
    "    print(\" *\",sum)         "
   ]
  },
  {
   "cell_type": "markdown",
   "metadata": {},
   "source": [
    "### Problem 4:  Optional"
   ]
  },
  {
   "cell_type": "code",
   "execution_count": 25,
   "metadata": {},
   "outputs": [
    {
     "name": "stdout",
     "output_type": "stream",
     "text": [
      "***********************\n",
      "* 5 3 8 2 7 2 2 8 4 0 *\n",
      "* 6 3 7 0 7 8 7 4 0 0 *\n",
      "* 5 6 0 3 1 5 3 8 6 6 *\n",
      "* 6 4 6 1 4 3 4 2 0 0 *\n",
      "* 1 2 6 6 4 1 7 8 5 8 *\n",
      "* 6 1 8 2 0 6 5 0 4 4 *\n",
      "* 0 6 4 8 8 7 1 3 8 8 *\n",
      "* 3 2 6 7 5 4 3 4 7 7 *\n",
      "* 5 2 4 3 2 6 7 4 5 0 *\n",
      "* 6 5 6 6 7 6 3 0 1 8 *\n",
      "***********************\n"
     ]
    }
   ],
   "source": [
    "print(\"***********************\")            \n",
    "\n",
    "for i in range(10):                         \n",
    "    matrix=numpy.random.randint(0,9,10)      \n",
    "    print(\"* \",end=\"\")                      \n",
    "    print(*matrix,end=\"\")                    \n",
    "    print(\" *\")                             \n",
    "print(\"***********************\")            "
   ]
  },
  {
   "cell_type": "markdown",
   "metadata": {},
   "source": [
    "### Problem 5:  Optional"
   ]
  },
  {
   "cell_type": "code",
   "execution_count": 26,
   "metadata": {},
   "outputs": [
    {
     "name": "stdout",
     "output_type": "stream",
     "text": [
      "7   8   3   5   7   3   6   3   8   9   * 59 \n",
      "\n",
      "2   2   8   5   6   1   0   2   8   2   * 36 \n",
      "\n",
      "6   4   5   0   9   6   6   1   3   6   * 46 \n",
      "\n",
      "9   9   4   3   4   2   5   2   9   2   * 49 \n",
      "\n",
      "7   7   5   5   5   9   1   3   1   7   * 50 \n",
      "\n",
      "0   8   8   9   8   0   2   6   0   5   * 46 \n",
      "\n",
      "1   8   9   5   8   4   9   8   7   2   * 61 \n",
      "\n",
      "6   8   0   2   3   3   8   8   3   1   * 42 \n",
      "\n",
      "1   6   1   0   9   7   1   0   2   4   * 31 \n",
      "\n",
      "8   7   5   9   8   3   7   1   8   0   * 56 \n",
      "\n",
      "*   *   *   *   *   *   *   *   *   *   \n",
      "\n",
      "47  67  48  43  67  38  45  34  49  38  "
     ]
    }
   ],
   "source": [
    "from numpy import random\n",
    "a=[0,0,0,0,0,0,0,0,0,0]\n",
    "\n",
    "for i in range(20):\n",
    "    if i==10:\n",
    "        for i in range(10):\n",
    "            print(\"*   \",end='')\n",
    "        print(\"\\n\")\n",
    "        for i in range(10):\n",
    "            print(a[i],\" \",end='')\n",
    "        break;\n",
    "    sum1=0\n",
    "    for j in range(10):\n",
    "        b=random.randint(10)\n",
    "        sum1+=b\n",
    "        a[j]=a[j]+b\n",
    "        print(b,\"  \", end='')\n",
    "    print(\"*\", sum1,\"\\n\")"
   ]
  }
 ],
 "metadata": {
  "kernelspec": {
   "display_name": "Python 3",
   "language": "python",
   "name": "python3"
  },
  "language_info": {
   "codemirror_mode": {
    "name": "ipython",
    "version": 3
   },
   "file_extension": ".py",
   "mimetype": "text/x-python",
   "name": "python",
   "nbconvert_exporter": "python",
   "pygments_lexer": "ipython3",
   "version": "3.7.4"
  }
 },
 "nbformat": 4,
 "nbformat_minor": 2
}
