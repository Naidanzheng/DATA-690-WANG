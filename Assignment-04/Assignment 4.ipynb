{
 "cells": [
  {
   "cell_type": "markdown",
   "metadata": {},
   "source": [
    "### 1. Write code to open the text file census_cost.txt and read all lines into a list named \"line_list\". Print line_list. "
   ]
  },
  {
   "cell_type": "code",
   "execution_count": 3,
   "metadata": {},
   "outputs": [],
   "source": [
    "with open (\"census_cost.txt\",\"rt\") as f:    # open the file\n",
    "    line_list =f.readlines()              # read the file\n",
    "    "
   ]
  },
  {
   "cell_type": "code",
   "execution_count": 4,
   "metadata": {},
   "outputs": [
    {
     "name": "stdout",
     "output_type": "stream",
     "text": [
      "Source: https://www.genealogybranches.com/censuscosts.html\n",
      "Census Year\tTotal Population\tCensus Cost\tAverage Cost Per Person\n",
      "1790\t3,929,214\t$44,377\t1.13 cents\n",
      "1800\t5,308,483\t$66,109\t1.24 cents\n",
      "1810\t7,239,881\t$178,445\t2.46 cents\n",
      "1820\t9,633,822\t$208,526\t2.16 cents\n",
      "1830\t12,866,020\t$378,545\t2.94 cents\n",
      "1840\t17,069,458\t$833,371\t4.88 cents\n",
      "1850\t23,191,876\t$1,423,351\t6.14 cents\n",
      "1860\t31,443,321\t$1,969,377\t6.26 cents\n",
      "1870\t38,558,371\t$3,421,198\t8.87 cents\n",
      "1880\t50,155,783\t$5,790,678\t11.54 cents\n",
      "1890\t62,979,766\t$11,547,127\t18.33 cents\n",
      "1900\t76,303,387\t$11,854,000\t15.54 cents\n",
      "1910\t91,972,266\t$15,968,000\t17.07 cents\n",
      "1920\t105,710,620\t$25,117,000\t23.76 cents\n",
      "1930\t122,775,046\t$40,156,000\t32.71 cents\n",
      "1940\t131,669,275\t$67,527,000\t51.29 cents\n",
      "1950\t151,325,798\t$91,462,000\t60.44 cents\n",
      "1960\t179,323,175\t$127,934,000\t71.34 cents\n",
      "1970\t203,302,031\t$247,653,000\t$1.22\n",
      "1980\t226,542,199\t$1,078,488,000\t$4.76\n",
      "1990\t248,718,301\t$2,492,830,000\t$10.02\n",
      "2000\t281,421,906\t$4.5 Billion\t$15.99\n",
      "2010*\t308,745,538\t$13 Billion\t$42.11\n"
     ]
    }
   ],
   "source": [
    "for line in line_list:                      # read line and print\n",
    "      print(line,end=\"\")"
   ]
  },
  {
   "cell_type": "markdown",
   "metadata": {},
   "source": [
    "### 2. Extract the first two lines and put them in a different list named \"top2_list\". "
   ]
  },
  {
   "cell_type": "code",
   "execution_count": 5,
   "metadata": {},
   "outputs": [],
   "source": [
    "top2_list = line_list[:2]"
   ]
  },
  {
   "cell_type": "code",
   "execution_count": 6,
   "metadata": {},
   "outputs": [
    {
     "name": "stdout",
     "output_type": "stream",
     "text": [
      "Source: https://www.genealogybranches.com/censuscosts.html\n",
      "Census Year\tTotal Population\tCensus Cost\tAverage Cost Per Person\n"
     ]
    }
   ],
   "source": [
    "for line in top2_list:\n",
    "    print(line,end=\"\")"
   ]
  },
  {
   "cell_type": "markdown",
   "metadata": {},
   "source": [
    "### 3. Put the rest of the lines (containing useful data elements) in a new list named \"data_list\". "
   ]
  },
  {
   "cell_type": "code",
   "execution_count": 7,
   "metadata": {},
   "outputs": [],
   "source": [
    "data_list = line_list[2:]"
   ]
  },
  {
   "cell_type": "code",
   "execution_count": 8,
   "metadata": {},
   "outputs": [
    {
     "name": "stdout",
     "output_type": "stream",
     "text": [
      "1790\t3,929,214\t$44,377\t1.13 cents\n",
      "1800\t5,308,483\t$66,109\t1.24 cents\n",
      "1810\t7,239,881\t$178,445\t2.46 cents\n",
      "1820\t9,633,822\t$208,526\t2.16 cents\n",
      "1830\t12,866,020\t$378,545\t2.94 cents\n",
      "1840\t17,069,458\t$833,371\t4.88 cents\n",
      "1850\t23,191,876\t$1,423,351\t6.14 cents\n",
      "1860\t31,443,321\t$1,969,377\t6.26 cents\n",
      "1870\t38,558,371\t$3,421,198\t8.87 cents\n",
      "1880\t50,155,783\t$5,790,678\t11.54 cents\n",
      "1890\t62,979,766\t$11,547,127\t18.33 cents\n",
      "1900\t76,303,387\t$11,854,000\t15.54 cents\n",
      "1910\t91,972,266\t$15,968,000\t17.07 cents\n",
      "1920\t105,710,620\t$25,117,000\t23.76 cents\n",
      "1930\t122,775,046\t$40,156,000\t32.71 cents\n",
      "1940\t131,669,275\t$67,527,000\t51.29 cents\n",
      "1950\t151,325,798\t$91,462,000\t60.44 cents\n",
      "1960\t179,323,175\t$127,934,000\t71.34 cents\n",
      "1970\t203,302,031\t$247,653,000\t$1.22\n",
      "1980\t226,542,199\t$1,078,488,000\t$4.76\n",
      "1990\t248,718,301\t$2,492,830,000\t$10.02\n",
      "2000\t281,421,906\t$4.5 Billion\t$15.99\n",
      "2010*\t308,745,538\t$13 Billion\t$42.11\n"
     ]
    }
   ],
   "source": [
    "for line in data_list:\n",
    "    print(line,end=\"\")"
   ]
  },
  {
   "cell_type": "markdown",
   "metadata": {},
   "source": [
    "### 4. Extract the column \"Census Year\" from data_list and assign them to a list named year_list. Remove the \"\" from the last element \"2010\". "
   ]
  },
  {
   "cell_type": "code",
   "execution_count": 9,
   "metadata": {},
   "outputs": [
    {
     "data": {
      "text/plain": [
       "['1790',\n",
       " '1800',\n",
       " '1810',\n",
       " '1820',\n",
       " '1830',\n",
       " '1840',\n",
       " '1850',\n",
       " '1860',\n",
       " '1870',\n",
       " '1880',\n",
       " '1890',\n",
       " '1900',\n",
       " '1910',\n",
       " '1920',\n",
       " '1930',\n",
       " '1940',\n",
       " '1950',\n",
       " '1960',\n",
       " '1970',\n",
       " '1980',\n",
       " '1990',\n",
       " '2000',\n",
       " '2010']"
      ]
     },
     "execution_count": 9,
     "metadata": {},
     "output_type": "execute_result"
    }
   ],
   "source": [
    "year_list = []\n",
    "for line in data_list:\n",
    "    year_list.append(line.strip(\"\\n\").split('\\t')[0].strip('*'))\n",
    "year_list"
   ]
  },
  {
   "cell_type": "code",
   "execution_count": 10,
   "metadata": {},
   "outputs": [
    {
     "name": "stdout",
     "output_type": "stream",
     "text": [
      "1790\n",
      "1800\n",
      "1810\n",
      "1820\n",
      "1830\n",
      "1840\n",
      "1850\n",
      "1860\n",
      "1870\n",
      "1880\n",
      "1890\n",
      "1900\n",
      "1910\n",
      "1920\n",
      "1930\n",
      "1940\n",
      "1950\n",
      "1960\n",
      "1970\n",
      "1980\n",
      "1990\n",
      "2000\n",
      "2010\n"
     ]
    }
   ],
   "source": [
    "for year in year_list:\n",
    "    print(year)"
   ]
  },
  {
   "cell_type": "markdown",
   "metadata": {},
   "source": [
    "### 5.Extract the \"Total Population\" column from the data_list and assign them to a list named \"pop_list\". Remove the \",\" from the numbers since Python doesn't recognize them. Print the cleansed \"pop_list\". "
   ]
  },
  {
   "cell_type": "code",
   "execution_count": 11,
   "metadata": {},
   "outputs": [
    {
     "data": {
      "text/plain": [
       "['3929214',\n",
       " '5308483',\n",
       " '7239881',\n",
       " '9633822',\n",
       " '12866020',\n",
       " '17069458',\n",
       " '23191876',\n",
       " '31443321',\n",
       " '38558371',\n",
       " '50155783',\n",
       " '62979766',\n",
       " '76303387',\n",
       " '91972266',\n",
       " '105710620',\n",
       " '122775046',\n",
       " '131669275',\n",
       " '151325798',\n",
       " '179323175',\n",
       " '203302031',\n",
       " '226542199',\n",
       " '248718301',\n",
       " '281421906',\n",
       " '308745538']"
      ]
     },
     "execution_count": 11,
     "metadata": {},
     "output_type": "execute_result"
    }
   ],
   "source": [
    "pop_list = []\n",
    "for line in data_list:\n",
    "    pop_list.append(line.strip(\"\\n\").split('\\t')[1].replace(\",\",\"\"))\n",
    "pop_list"
   ]
  },
  {
   "cell_type": "code",
   "execution_count": 12,
   "metadata": {},
   "outputs": [
    {
     "name": "stdout",
     "output_type": "stream",
     "text": [
      "3929214\n",
      "5308483\n",
      "7239881\n",
      "9633822\n",
      "12866020\n",
      "17069458\n",
      "23191876\n",
      "31443321\n",
      "38558371\n",
      "50155783\n",
      "62979766\n",
      "76303387\n",
      "91972266\n",
      "105710620\n",
      "122775046\n",
      "131669275\n",
      "151325798\n",
      "179323175\n",
      "203302031\n",
      "226542199\n",
      "248718301\n",
      "281421906\n",
      "308745538\n"
     ]
    }
   ],
   "source": [
    "for pop in pop_list:\n",
    "    print(pop)"
   ]
  },
  {
   "cell_type": "markdown",
   "metadata": {},
   "source": [
    "### 6.Extract the \"Census Cost\" column from the data_list and assign them to a list named \"cost_list\". Remove the \",\", and \"$\", and \"Billion\". Make sure to add the \"0\"s to the numbers from which you removed \"Billion\".  "
   ]
  },
  {
   "cell_type": "code",
   "execution_count": 13,
   "metadata": {},
   "outputs": [],
   "source": [
    "def replace_billion(cost_string):\n",
    "    clean_cost = cost_string\n",
    "\n",
    "    if \"Billion\" in clean_cost.split():\n",
    "        clean_cost = clean_cost.replace(\"Billion\",\"\")\n",
    "        clean_cost = str(int(float(clean_cost)*1000000000))\n",
    "\n",
    "    return clean_cost"
   ]
  },
  {
   "cell_type": "code",
   "execution_count": 14,
   "metadata": {},
   "outputs": [
    {
     "data": {
      "text/plain": [
       "['44377',\n",
       " '66109',\n",
       " '178445',\n",
       " '208526',\n",
       " '378545',\n",
       " '833371',\n",
       " '1423351',\n",
       " '1969377',\n",
       " '3421198',\n",
       " '5790678',\n",
       " '11547127',\n",
       " '11854000',\n",
       " '15968000',\n",
       " '25117000',\n",
       " '40156000',\n",
       " '67527000',\n",
       " '91462000',\n",
       " '127934000',\n",
       " '247653000',\n",
       " '1078488000',\n",
       " '2492830000',\n",
       " '4500000000',\n",
       " '13000000000']"
      ]
     },
     "execution_count": 14,
     "metadata": {},
     "output_type": "execute_result"
    }
   ],
   "source": [
    "cost_list = []\n",
    "for line in data_list:\n",
    "    cost_list.append(line.strip(\"\\n\").split('\\t')[2].replace(\",\",\"\").replace(\"$\",\"\"))\n",
    "    \n",
    "cost_list = [replace_billion(cost) for cost in cost_list]\n",
    "cost_list"
   ]
  },
  {
   "cell_type": "code",
   "execution_count": 15,
   "metadata": {},
   "outputs": [
    {
     "name": "stdout",
     "output_type": "stream",
     "text": [
      "44377\n",
      "66109\n",
      "178445\n",
      "208526\n",
      "378545\n",
      "833371\n",
      "1423351\n",
      "1969377\n",
      "3421198\n",
      "5790678\n",
      "11547127\n",
      "11854000\n",
      "15968000\n",
      "25117000\n",
      "40156000\n",
      "67527000\n",
      "91462000\n",
      "127934000\n",
      "247653000\n",
      "1078488000\n",
      "2492830000\n",
      "4500000000\n",
      "13000000000\n"
     ]
    }
   ],
   "source": [
    "for cost in cost_list:\n",
    "    print(cost)"
   ]
  },
  {
   "cell_type": "markdown",
   "metadata": {},
   "source": [
    "### 7.Extract the \"Average Cost per Person\" column from the data_list and assign them to a list named \"avg_list\". Remove the \"cents\", and \"$\". Make sure to divide the numbers in cents by 100 so that all numbers are measured in dollar. "
   ]
  },
  {
   "cell_type": "code",
   "execution_count": 16,
   "metadata": {},
   "outputs": [],
   "source": [
    "def replace_cents(cost_string):\n",
    "    clean_cost = cost_string\n",
    "\n",
    "    if \"cents\" in clean_cost.split():\n",
    "        clean_cost = clean_cost.replace(\"cents\",\"\")\n",
    "        clean_cost = str(\"{:.4f}\".format(float(clean_cost)/100))\n",
    "\n",
    "    return clean_cost"
   ]
  },
  {
   "cell_type": "code",
   "execution_count": 17,
   "metadata": {},
   "outputs": [
    {
     "data": {
      "text/plain": [
       "['0.0113',\n",
       " '0.0124',\n",
       " '0.0246',\n",
       " '0.0216',\n",
       " '0.0294',\n",
       " '0.0488',\n",
       " '0.0614',\n",
       " '0.0626',\n",
       " '0.0887',\n",
       " '0.1154',\n",
       " '0.1833',\n",
       " '0.1554',\n",
       " '0.1707',\n",
       " '0.2376',\n",
       " '0.3271',\n",
       " '0.5129',\n",
       " '0.6044',\n",
       " '0.7134',\n",
       " '1.22',\n",
       " '4.76',\n",
       " '10.02',\n",
       " '15.99',\n",
       " '42.11']"
      ]
     },
     "execution_count": 17,
     "metadata": {},
     "output_type": "execute_result"
    }
   ],
   "source": [
    "avg_list = []\n",
    "for line in data_list:\n",
    "\n",
    "    avg_list.append(line.strip(\"\\n\").split('\\t')[3].replace(\"$\",\"\"))\n",
    "    \n",
    "avg_list = [replace_cents(cost) for cost in avg_list]\n",
    "avg_list"
   ]
  },
  {
   "cell_type": "code",
   "execution_count": 18,
   "metadata": {},
   "outputs": [
    {
     "name": "stdout",
     "output_type": "stream",
     "text": [
      "0.0113\n",
      "0.0124\n",
      "0.0246\n",
      "0.0216\n",
      "0.0294\n",
      "0.0488\n",
      "0.0614\n",
      "0.0626\n",
      "0.0887\n",
      "0.1154\n",
      "0.1833\n",
      "0.1554\n",
      "0.1707\n",
      "0.2376\n",
      "0.3271\n",
      "0.5129\n",
      "0.6044\n",
      "0.7134\n",
      "1.22\n",
      "4.76\n",
      "10.02\n",
      "15.99\n",
      "42.11\n"
     ]
    }
   ],
   "source": [
    "for avg_cost in avg_list:\n",
    "    print(avg_cost)"
   ]
  },
  {
   "cell_type": "markdown",
   "metadata": {},
   "source": [
    "### 8. Coalesce the cleansed data and save them to a text file named \"census_cost.csv\". The new file should look similar to the original source file except that it is in comma-delimited format and the numbers have been cleansed. The top two lines from the original file should be retained in the new file. "
   ]
  },
  {
   "cell_type": "code",
   "execution_count": 19,
   "metadata": {},
   "outputs": [],
   "source": [
    "COMMA = ','\n",
    "with open(\"census_cost.csv\", \"w\") as csv_file:\n",
    "\n",
    "    for line in top2_list:\n",
    "\n",
    "        csv_file.write(line.replace('\\t',COMMA))\n",
    "\n",
    "    for i in range(0,len(data_list)):\n",
    "        csv_line = year_list[i] + COMMA + pop_list[i] + COMMA + cost_list[i] + COMMA + avg_list[i] + '\\n'\n",
    "        csv_file.write(csv_line)"
   ]
  },
  {
   "cell_type": "markdown",
   "metadata": {},
   "source": [
    "### 9. Open the newly-created file \"census_cost.csv\", read all lines and display them. "
   ]
  },
  {
   "cell_type": "code",
   "execution_count": 20,
   "metadata": {},
   "outputs": [
    {
     "name": "stdout",
     "output_type": "stream",
     "text": [
      "Source: https://www.genealogybranches.com/censuscosts.html\n",
      "\n",
      "Census Year,Total Population,Census Cost,Average Cost Per Person\n",
      "\n",
      "1790,3929214,44377,0.0113\n",
      "\n",
      "1800,5308483,66109,0.0124\n",
      "\n",
      "1810,7239881,178445,0.0246\n",
      "\n",
      "1820,9633822,208526,0.0216\n",
      "\n",
      "1830,12866020,378545,0.0294\n",
      "\n",
      "1840,17069458,833371,0.0488\n",
      "\n",
      "1850,23191876,1423351,0.0614\n",
      "\n",
      "1860,31443321,1969377,0.0626\n",
      "\n",
      "1870,38558371,3421198,0.0887\n",
      "\n",
      "1880,50155783,5790678,0.1154\n",
      "\n",
      "1890,62979766,11547127,0.1833\n",
      "\n",
      "1900,76303387,11854000,0.1554\n",
      "\n",
      "1910,91972266,15968000,0.1707\n",
      "\n",
      "1920,105710620,25117000,0.2376\n",
      "\n",
      "1930,122775046,40156000,0.3271\n",
      "\n",
      "1940,131669275,67527000,0.5129\n",
      "\n",
      "1950,151325798,91462000,0.6044\n",
      "\n",
      "1960,179323175,127934000,0.7134\n",
      "\n",
      "1970,203302031,247653000,1.22\n",
      "\n",
      "1980,226542199,1078488000,4.76\n",
      "\n",
      "1990,248718301,2492830000,10.02\n",
      "\n",
      "2000,281421906,4500000000,15.99\n",
      "\n",
      "2010,308745538,13000000000,42.11\n",
      "\n"
     ]
    }
   ],
   "source": [
    "with open (\"census_cost.csv\",\"rt\") as f: \n",
    "    line_list =f.readlines()\n",
    "    for row in line_list:\n",
    "      print(row)"
   ]
  }
 ],
 "metadata": {
  "kernelspec": {
   "display_name": "Python 3",
   "language": "python",
   "name": "python3"
  },
  "language_info": {
   "codemirror_mode": {
    "name": "ipython",
    "version": 3
   },
   "file_extension": ".py",
   "mimetype": "text/x-python",
   "name": "python",
   "nbconvert_exporter": "python",
   "pygments_lexer": "ipython3",
   "version": "3.7.4"
  }
 },
 "nbformat": 4,
 "nbformat_minor": 2
}
